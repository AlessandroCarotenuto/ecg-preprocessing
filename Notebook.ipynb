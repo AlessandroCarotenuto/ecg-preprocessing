{
 "cells": [
  {
   "cell_type": "code",
   "execution_count": 1,
   "metadata": {},
   "outputs": [
    {
     "name": "stdout",
     "output_type": "stream",
     "text": [
      "Keys: <KeysViewHDF5 ['tracings']>\n",
      "<class 'h5py._hl.dataset.Dataset'>\n",
      "<KeysViewHDF5 ['tracings']>\n",
      "(10, 462600, 12)\n"
     ]
    }
   ],
   "source": [
    "import h5py\n",
    "filename = \"dataset.hdf5\"\n",
    "\n",
    "with h5py.File(filename, \"r\") as f:\n",
    "    # Print all root level object names (aka keys) \n",
    "    # these can be group or dataset names \n",
    "    print(\"Keys: %s\" % f.keys())\n",
    "    # get first object name/key; may or may NOT be a group\n",
    "    a_group_key = list(f.keys())[0]\n",
    "\n",
    "    # get the object type for a_group_key: usually group or dataset\n",
    "    print(type(f[a_group_key])) \n",
    "\n",
    "    key = f.keys()\n",
    "    \n",
    "    print(key)\n",
    "    dset = f['tracings']\n",
    "\n",
    "    print(dset.shape)"
   ]
  },
  {
   "cell_type": "code",
   "execution_count": 2,
   "metadata": {},
   "outputs": [],
   "source": [
    "import h5py\n",
    "import csv\n",
    "\n",
    "def hdf5_to_csv(hdf5_file, csv_file):\n",
    "    # Apre il file HDF5 in modalità lettura\n",
    "    with h5py.File(hdf5_file, 'r') as f:\n",
    "        # Accedi ai dati del tensore 3D (sostituisci 'nome_del_tensore' con il nome effettivo)\n",
    "        if 'tracings' in f:\n",
    "            dataset = f['tracings']\n",
    "            data = dataset[:]  # Ottieni tutti i dati del tensore\n",
    "\n",
    "            # Scrivi i dati in un file CSV\n",
    "            with open(csv_file, 'w', newline='') as csvfile:\n",
    "                csvwriter = csv.writer(csvfile)\n",
    "\n",
    "                # Scorrere i dati del tensore e scriverli nel file CSV\n",
    "                for i in range(data.shape[0]):\n",
    "                    for j in range(data.shape[1]):\n",
    "                        for k in range(data.shape[2]):\n",
    "                            csvwriter.writerow([i, j, k, data[i, j, k]])\n",
    "\n",
    "# Esempio di utilizzo\n",
    "hdf5_file = 'dataset.hdf5'  # Sostituisci con il percorso del file HDF5\n",
    "csv_file = 'ecg_tracings.csv'    # Sostituisci con il percorso desiderato per il file CSV\n",
    "\n",
    "hdf5_to_csv(hdf5_file, csv_file)"
   ]
  },
  {
   "cell_type": "code",
   "execution_count": 3,
   "metadata": {},
   "outputs": [],
   "source": [
    "import pandas as pd\n",
    "# Visualizza le prime 5 righe del DataFrame\n",
    "df = pd.read_csv('ecg_tracings.csv')\n",
    "# print(df.head())"
   ]
  }
 ],
 "metadata": {
  "kernelspec": {
   "display_name": "Python 3",
   "language": "python",
   "name": "python3"
  },
  "language_info": {
   "codemirror_mode": {
    "name": "ipython",
    "version": 3
   },
   "file_extension": ".py",
   "mimetype": "text/x-python",
   "name": "python",
   "nbconvert_exporter": "python",
   "pygments_lexer": "ipython3",
   "version": "3.11.4"
  },
  "orig_nbformat": 4
 },
 "nbformat": 4,
 "nbformat_minor": 2
}
